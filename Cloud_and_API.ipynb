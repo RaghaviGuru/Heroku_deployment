{
  "cells": [
    {
      "cell_type": "markdown",
      "metadata": {
        "id": "l0SxooksdOgy"
      },
      "source": [
        "***This personal dataset is used to predict the medical cost***\n"
      ]
    },
    {
      "cell_type": "code",
      "execution_count": null,
      "metadata": {
        "id": "-8xUlu4eMKv6"
      },
      "outputs": [],
      "source": [
        "# Importing the libraries\n",
        "import numpy as np\n",
        "import pandas as pd\n",
        "import pickle\n",
        "import json\n",
        "from sklearn import preprocessing\n",
        "\n",
        "dataset = pd.read_csv('insurance.csv')\n",
        "le = preprocessing.LabelEncoder()\n",
        "dataset = dataset.apply(le.fit_transform)\n",
        "\n",
        "\n"
      ]
    },
    {
      "cell_type": "code",
      "execution_count": null,
      "metadata": {
        "id": "ft_14RlgNeLH"
      },
      "outputs": [],
      "source": [
        "\n",
        "dataset['bmi'].fillna(dataset['bmi'].mean(), inplace=True)\n",
        "\n",
        "X = dataset.iloc[:, -1]"
      ]
    },
    {
      "cell_type": "code",
      "execution_count": null,
      "metadata": {
        "colab": {
          "base_uri": "https://localhost:8080/"
        },
        "id": "nXmQJjJmOqo9",
        "outputId": "792d1afe-e970-436a-cb0a-a718219d2df4"
      },
      "outputs": [
        {
          "output_type": "stream",
          "name": "stdout",
          "text": [
            "key present\n"
          ]
        }
      ],
      "source": [
        "sex = { 'male': '1','female':'2' }\n",
        "if 'female' in sex:\n",
        "  print('key present')\n",
        "else:\n",
        "  print('key not found')"
      ]
    },
    {
      "cell_type": "code",
      "execution_count": null,
      "metadata": {
        "id": "verQXKdmO0vD"
      },
      "outputs": [],
      "source": [
        "y = dataset.iloc[:, 1].values\n",
        "\n"
      ]
    },
    {
      "cell_type": "code",
      "execution_count": null,
      "metadata": {
        "id": "yDp_WBzLamAd"
      },
      "outputs": [],
      "source": [
        "from sklearn.model_selection import train_test_split\n",
        "\n"
      ]
    },
    {
      "cell_type": "code",
      "execution_count": null,
      "metadata": {
        "id": "IG517XObSLKx"
      },
      "outputs": [],
      "source": [
        "X_train, X_test, y_train, y_test = train_test_split(X, y, test_size = 0.33, random_state = 0)"
      ]
    },
    {
      "cell_type": "code",
      "execution_count": null,
      "metadata": {
        "id": "GqgaFsBwRfDs"
      },
      "outputs": [],
      "source": [
        "from sklearn.linear_model import LinearRegression\n",
        "regression = LinearRegression()\n",
        "\n"
      ]
    },
    {
      "cell_type": "code",
      "execution_count": null,
      "metadata": {
        "id": "NaggSNGVUOLD"
      },
      "outputs": [],
      "source": [
        "X_train= X_train.values.reshape(-1, 1)\n",
        "X_test = X_test.values.reshape(-1, 1)"
      ]
    },
    {
      "cell_type": "code",
      "execution_count": null,
      "metadata": {
        "colab": {
          "base_uri": "https://localhost:8080/"
        },
        "id": "23_NoSP3MlP2",
        "outputId": "77725074-863b-4774-92f7-19a40bf04932"
      },
      "outputs": [
        {
          "output_type": "stream",
          "name": "stdout",
          "text": [
            "[0.4813004  0.50705774 0.48420687 0.49660948 0.47724136 0.50841075\n",
            " 0.49260056 0.48395631 0.48325475 0.49255044 0.49340234 0.49054598\n",
            " 0.49696026 0.48275363 0.47924582 0.48137557 0.48310441 0.4901952\n",
            " 0.50650651 0.49896472 0.4893433  0.50530384 0.49721082 0.47821854\n",
            " 0.49558219 0.49548197 0.48375586 0.47741675 0.50891187 0.49024531\n",
            " 0.50572979 0.48252813 0.50475261 0.48658717 0.49736115 0.50207164\n",
            " 0.50638124 0.49360279 0.49079654 0.47786776 0.48365564 0.49137282\n",
            " 0.47909549 0.49402873 0.47811831 0.48207713 0.50808503 0.48766457\n",
            " 0.48969408 0.48320464 0.50365016 0.49490569 0.49881439 0.4854346\n",
            " 0.48743906 0.48535943 0.47711608 0.49224977 0.50387566 0.4856601\n",
            " 0.50926265 0.49427929 0.48874197 0.48135051 0.48791512 0.50788458\n",
            " 0.47851921 0.49713565 0.49247528 0.4917236  0.4795966  0.49758666\n",
            " 0.49921528 0.50680718 0.49786227 0.49006992 0.49956606 0.50046807\n",
            " 0.50703269 0.49082159 0.49643409 0.5033996  0.48257824 0.50683224\n",
            " 0.48473304 0.50282331 0.50252265 0.48398137 0.49508108 0.49515625\n",
            " 0.48631155 0.47861943 0.47671519 0.47756709 0.4817514  0.4780682\n",
            " 0.49966629 0.48172635 0.48986948 0.49275089 0.49718576 0.48831602\n",
            " 0.49846361 0.47934605 0.49290122 0.48573527 0.48999475 0.49826316\n",
            " 0.4973361  0.50347476 0.49924034 0.49092182 0.48964397 0.50532889\n",
            " 0.4862865  0.49590792 0.48919297 0.48601088 0.50397588 0.49538175\n",
            " 0.49375312 0.49891461 0.49475535 0.48571022 0.48225252 0.48563505\n",
            " 0.48801535 0.47776753 0.48961892 0.48165118 0.48603594 0.49806272\n",
            " 0.48235274 0.48280374 0.47962166 0.479772   0.48385609 0.50222198\n",
            " 0.50415127 0.50718302 0.49903989 0.49415401 0.50898704 0.47751697\n",
            " 0.49831327 0.47716619 0.48593572 0.50184614 0.49447974 0.48583549\n",
            " 0.49989179 0.49437952 0.50783447 0.5060054  0.4873639  0.49776205\n",
            " 0.50289848 0.4773917  0.49207438 0.48322969 0.47721631 0.50485283\n",
            " 0.50625596 0.50352488 0.50061841 0.48904263 0.5047025  0.50490294\n",
            " 0.49122249 0.50187119 0.50795975 0.48383103 0.50452711 0.49202427\n",
            " 0.50480272 0.50199647 0.49856383 0.49357773 0.5016958  0.4994909\n",
            " 0.50675707 0.47954649 0.49500591 0.49663454 0.47947133 0.48776479\n",
            " 0.504928   0.47769237 0.48014783 0.49588286 0.49934056 0.48851646\n",
            " 0.4765398  0.50996421 0.47871965 0.4958077  0.50327432 0.48019794\n",
            " 0.48445743 0.50517856 0.50157053 0.48746412 0.50931276 0.50615573\n",
            " 0.49701037 0.4782937  0.4941039  0.50144525 0.48701312 0.47889504\n",
            " 0.48994464 0.50106941 0.49034554 0.49680993 0.492801   0.49871417\n",
            " 0.4834552  0.47719125 0.47704091 0.50663179 0.48768962 0.50009223\n",
            " 0.48195185 0.50836064 0.47816843 0.49037059 0.49252539 0.4964842\n",
            " 0.49059609 0.47804315 0.48881713 0.49563231 0.49182383 0.4799975\n",
            " 0.50242242 0.49848866 0.49655937 0.47929594 0.48307936 0.49861394\n",
            " 0.47876976 0.48220241 0.48596077 0.49964123 0.4776172  0.49292628\n",
            " 0.48094962 0.47979705 0.48954375 0.48338003 0.48064895 0.49858889\n",
            " 0.49232494 0.50958838 0.49442963 0.50748369 0.50121974 0.50019246\n",
            " 0.48871691 0.48540955 0.48212724 0.49222472 0.50116963 0.48403148\n",
            " 0.48069906 0.48112501 0.49498085 0.48277869 0.49939067 0.49267572\n",
            " 0.48839118 0.49803766 0.50542912 0.49726093 0.49668465 0.50269804\n",
            " 0.47992233 0.48122523 0.49032048 0.47669013 0.48806546 0.47658991\n",
            " 0.48748918 0.50324926 0.4910471  0.4839062  0.4832798  0.49959112\n",
            " 0.48230263 0.47881988 0.47744181 0.49197416 0.49159832 0.48087445\n",
            " 0.48678761 0.48528427 0.49174866 0.5083857  0.48460776 0.47696575\n",
            " 0.49608331 0.48859163 0.48924308 0.50370027 0.49300145 0.48262835\n",
            " 0.48350531 0.50214681 0.50653157 0.4988645  0.48949364 0.48292902\n",
            " 0.47726642 0.50119469 0.4830543  0.48145073 0.4815259  0.50212175\n",
            " 0.50111952 0.50941299 0.5070828  0.50540406 0.47846909 0.50194636\n",
            " 0.49638398 0.48809051 0.48786501 0.4769908  0.49102204 0.50921254\n",
            " 0.50189625 0.47886999 0.49974145 0.50750875 0.48648694 0.50244748\n",
            " 0.50487789 0.49057104 0.49204933 0.48901758 0.48102478 0.49788733\n",
            " 0.50550428 0.48205207 0.49751149 0.50044302 0.50129491 0.50064346\n",
            " 0.5023222  0.50237231 0.4886668  0.49310167 0.5088367  0.49480546\n",
            " 0.49237505 0.49620859 0.48984442 0.48753929 0.48465787 0.50500317\n",
            " 0.50229714 0.50274815 0.49675982 0.47681541 0.48555988 0.47919571\n",
            " 0.4951813  0.49062115 0.48936836 0.50735841 0.49405379 0.47706597\n",
            " 0.50472755 0.49618353 0.48586055 0.49868911 0.49493074 0.49332717\n",
            " 0.48856657 0.48553482 0.47844404 0.50983893 0.50069357 0.4984135\n",
            " 0.48661222 0.48247802 0.49593297 0.5003929  0.50134502 0.49488063\n",
            " 0.47664002 0.47701586 0.49119743 0.48210218 0.48505877 0.49463007\n",
            " 0.49888956 0.50142019 0.47912054 0.48380598 0.48423192 0.49087171\n",
            " 0.50560451 0.49350256 0.49838844 0.50219692 0.50878659 0.48180151\n",
            " 0.50896198 0.49853878 0.49097193 0.486061   0.48340508 0.50720808\n",
            " 0.49610836 0.49425424 0.48591066 0.47902032 0.50137008 0.50349982\n",
            " 0.48150084 0.48789007 0.4767653  0.49543186 0.49560725 0.48363059\n",
            " 0.48548471 0.49783721 0.50152041 0.50071863 0.50695752 0.49979156\n",
            " 0.49044576 0.49598309 0.49194911 0.49094687 0.5007938  0.50172086\n",
            " 0.50803492 0.49407885 0.49262561 0.50673202 0.48047356 0.48285386\n",
            " 0.48295408 0.49142293 0.50933782 0.50793469 0.50660674 0.49650926\n",
            " 0.50863626 0.50971365 0.50375038 0.50174592 0.4826033  0.50580495\n",
            " 0.48550977 0.4947303  0.47927088 0.50848592 0.49873922 0.48951869\n",
            " 0.49781216 0.48458271 0.49312673 0.50690741 0.48824085 0.50154547\n",
            " 0.49392851 0.47831876 0.5081602  0.50081885 0.48400642 0.49370301\n",
            " 0.50239737 0.48939342 0.48039839 0.47884493 0.49265067 0.50402599\n",
            " 0.48004761 0.49698532 0.50482778 0.50851098 0.49578264 0.48009772\n",
            " 0.48265341 0.50372532 0.49345245 0.47964672 0.50881165 0.48989453\n",
            " 0.5090622  0.48430709 0.49768688 0.48057378 0.5068573  0.48222746\n",
            " 0.49390346 0.49440457 0.49117238 0.50585506 0.49630881 0.50139513\n",
            " 0.50598034 0.50923759 0.4847581  0.50392577 0.49773699 0.48343014\n",
            " 0.48721356 0.49565736 0.49435446 0.48428204 0.49397862 0.47731653\n",
            " 0.48463282 0.49535669 0.48120017 0.49893967 0.50993916 0.49335223\n",
            " 0.50177097 0.50635618 0.49478041 0.49573253 0.49623364 0.48017289\n",
            " 0.5038506  0.50036785 0.50312398 0.48245296 0.4789201  0.5075338\n",
            " 0.48971914 0.50410116 0.50462733 0.50773425 0.4786946  0.50545417\n",
            " 0.49771193 0.48773973 0.50763402 0.50302376 0.49184888 0.50743358\n",
            " 0.49367795 0.49828822 0.48581044 0.5031741  0.48794018 0.50011729\n",
            " 0.50024257 0.50287343 0.47952144 0.48290397 0.50412622 0.48393125\n",
            " 0.49991684 0.4975616  0.49984168 0.49305156 0.4849836  0.50086896\n",
            " 0.50354993 0.50440183 0.48681267 0.50658168 0.505379   0.49189899\n",
            " 0.48906769 0.49027037 0.48002255 0.48716345 0.50001707 0.50733336\n",
            " 0.49417907 0.49107215 0.480674   0.4960332  0.47789281 0.49460502\n",
            " 0.49954101 0.50006718 0.48726367 0.49706048 0.48578538 0.49791238\n",
            " 0.48723862 0.48666234 0.48500865 0.47841898 0.49658442 0.47967177\n",
            " 0.49929045 0.48703817 0.49878933 0.48886724 0.48944353 0.5099141\n",
            " 0.48415676 0.48287891 0.49355268 0.48653706 0.49628376 0.49400368\n",
            " 0.49613342 0.49282606 0.49177371 0.50613068 0.49124754 0.49240011\n",
            " 0.50593023 0.48024805 0.4891178  0.5096886  0.49445468 0.48360553\n",
            " 0.49793744 0.48485832 0.50953826 0.50790964 0.50395082 0.47684047\n",
            " 0.49420413 0.50377543 0.5029987  0.49575758 0.48440731 0.47994739\n",
            " 0.49653431 0.48240285 0.48558494 0.47984716 0.50329937 0.50442688\n",
            " 0.50843581 0.49287617 0.5012448  0.49112226 0.50943804 0.48686278\n",
            " 0.48192679 0.498639   0.48778985 0.50918748 0.49635892 0.49017014\n",
            " 0.47799303 0.48012278 0.48493349 0.49738621 0.50307387 0.49144799\n",
            " 0.48190174 0.50204659 0.50360004 0.4967097  0.50259781 0.49510613\n",
            " 0.50818525 0.50502822 0.50768414 0.48132545 0.49219966 0.48811557\n",
            " 0.47824359 0.48072411 0.50262287 0.48508382 0.48733884 0.48538449\n",
            " 0.47694069 0.504477   0.49981662 0.49169855 0.48155096 0.50126986\n",
            " 0.48916791 0.47801809 0.49457996 0.49996696 0.50465239 0.50665685\n",
            " 0.50059335 0.48841624 0.49951595 0.50267298 0.5010193  0.50249759\n",
            " 0.50292354 0.50527878 0.50284837 0.48588561 0.50400094 0.49766182\n",
            " 0.4791456  0.49686004 0.50314904 0.47771742 0.48054872 0.47661497\n",
            " 0.4875894  0.50655663 0.48232768 0.4977871  0.48618628 0.49798755\n",
            " 0.50164569 0.49352762 0.50856109 0.50420138 0.48861669 0.50497811\n",
            " 0.49380323 0.48796524 0.48761445 0.49483052 0.49585781 0.49362784\n",
            " 0.48668739 0.49748643 0.48513393 0.48084939 0.50357499 0.48029817\n",
            " 0.48545966 0.49157327 0.49673476 0.50049313 0.47942121 0.47779259\n",
            " 0.49523141 0.49976651 0.48751423 0.49072137 0.50547923 0.50846087\n",
            " 0.50026762 0.50304882 0.47839393 0.50505328 0.50455216 0.50590518\n",
            " 0.50557945 0.49763677 0.49004487 0.49235    0.47932099 0.48140062\n",
            " 0.49217461 0.49693521 0.4971106  0.49014509 0.5051535  0.48147579\n",
            " 0.50149536 0.5094631  0.49553208 0.50495306 0.49337728 0.50978882\n",
            " 0.50522867 0.48799029 0.49382829 0.5057799  0.50826042 0.50715796\n",
            " 0.48478315 0.50337454 0.48353036 0.50565462 0.50562956 0.48708828\n",
            " 0.48688784 0.50876153 0.48706323 0.47874471 0.48914286 0.486963\n",
            " 0.48909275 0.49327706 0.480223   0.4884413  0.49605825 0.50903715\n",
            " 0.48683773 0.50780941 0.50031774 0.48763951 0.50417633 0.50745863\n",
            " 0.49883945 0.50738347 0.48816568 0.4828288  0.49961617 0.48693795\n",
            " 0.49250033 0.50670696 0.49099699 0.47819348 0.50608057 0.48099973\n",
            " 0.50886176 0.48836613 0.48676256 0.48510888 0.49295134 0.50688235\n",
            " 0.50197142 0.4980126  0.47686552 0.50319915 0.47679036 0.48443237\n",
            " 0.50227209 0.4993155  0.48032322 0.48959386 0.48170129 0.50021751\n",
            " 0.50535395 0.48966903 0.4810749  0.50723313 0.50798481 0.48946858\n",
            " 0.50114458 0.48834107 0.50104435 0.49568242 0.49272583 0.50432666\n",
            " 0.49412896 0.48783996 0.50332443 0.50648146 0.48633661 0.47766731\n",
            " 0.50998927 0.49270078 0.48160107 0.49999201 0.4936529  0.49074643\n",
            " 0.47897021 0.48921802 0.50620584 0.47899527 0.48089951 0.50755886\n",
            " 0.48042345 0.49723588 0.48956881 0.4906462  0.50595529 0.48007266\n",
            " 0.51001432 0.49470524 0.49898978 0.50813514 0.48929319 0.48077423\n",
            " 0.48049861 0.50422644 0.50066852 0.48483326 0.4962587  0.49227483\n",
            " 0.50131997 0.50728324 0.48698806 0.48560999 0.49067126 0.50605551\n",
            " 0.49012003 0.49716071 0.50908726 0.49242516 0.49528152 0.48104984\n",
            " 0.49595803 0.48312947 0.48621133 0.5066819  0.47746686 0.49633387\n",
            " 0.50628101 0.47922077 0.4999419  0.48142568 0.48941847 0.48636167\n",
            " 0.47759214 0.48503371]\n"
          ]
        }
      ],
      "source": [
        "#fit the model with training data\n",
        "regression.fit(X_train, y_train)\n",
        "y_pred = regression.predict(X_train)\n",
        "print(y_pred)\n"
      ]
    },
    {
      "cell_type": "code",
      "execution_count": null,
      "metadata": {
        "id": "_tgAqkjSbQBf"
      },
      "outputs": [],
      "source": [
        "#saving the model to disk\n",
        "pickle.dump(regression, open('model.pkl','wb'))"
      ]
    },
    {
      "cell_type": "code",
      "execution_count": null,
      "metadata": {
        "id": "kVTQcs7DWWv2"
      },
      "outputs": [],
      "source": [
        "# Loading model to compare the results\n",
        "model = pickle.load(open('model.pkl','rb'))\n"
      ]
    },
    {
      "cell_type": "code",
      "execution_count": null,
      "metadata": {
        "id": "jH9rvdXsOsw9"
      },
      "outputs": [],
      "source": [
        "import keras\n",
        "from keras.models import Sequential\n",
        "from keras.layers import Dense\n",
        "from keras.models import load_model\n",
        "\n",
        "#empty model\n",
        "classifier = Sequential()"
      ]
    },
    {
      "cell_type": "code",
      "execution_count": null,
      "metadata": {
        "id": "QFn3ucY_Rpob"
      },
      "outputs": [],
      "source": [
        "X_new = np.linspace(0, 30, 100)\n",
        "y_new = model.predict(X_new[:, np.newaxis])"
      ]
    },
    {
      "cell_type": "code",
      "execution_count": null,
      "metadata": {
        "id": "6ZIXyE3hti6_"
      },
      "outputs": [],
      "source": [
        "#Deployment on Flask\n",
        "from flask import Flask, request, jsonify, render_template\n",
        "app = Flask(__name__)\n",
        "model = pickle.load(open('model.pkl','rb'))\n"
      ]
    },
    {
      "cell_type": "code",
      "execution_count": null,
      "metadata": {
        "id": "u8i7rVdTt0D5"
      },
      "outputs": [],
      "source": [
        "@app.route(\"/\")\n",
        "def home():\n",
        "    return render_template(\"index.html\")"
      ]
    },
    {
      "cell_type": "code",
      "execution_count": null,
      "metadata": {
        "id": "WGyuw_Fst3iX"
      },
      "outputs": [],
      "source": [
        " @app.route('/predict',methods=['POST'])\n",
        "def predict():\n",
        "   \n",
        "    int_features = [int(x) for x in request.form.values()]\n",
        "    final_features = [np.array(int_features)]\n",
        "    prediction = model.predict(final_features)\n",
        "\n",
        "    output = round(prediction[0], 2)\n",
        "\n",
        "    return render_template('index.html', prediction_text='Insurance_cost should be $ {}'.format(output))\n",
        "\n",
        "  "
      ]
    },
    {
      "cell_type": "code",
      "source": [
        "app.run(debug=True, use_reloader=False)"
      ],
      "metadata": {
        "colab": {
          "base_uri": "https://localhost:8080/"
        },
        "id": "X3JCy1fhWRW-",
        "outputId": "133fd60c-968c-446b-f1b4-84a2a3edd525"
      },
      "execution_count": null,
      "outputs": [
        {
          "metadata": {
            "tags": null
          },
          "name": "stdout",
          "output_type": "stream",
          "text": [
            " * Serving Flask app \"__main__\" (lazy loading)\n",
            " * Environment: production\n",
            "\u001b[31m   WARNING: This is a development server. Do not use it in a production deployment.\u001b[0m\n",
            "\u001b[2m   Use a production WSGI server instead.\u001b[0m\n",
            " * Debug mode: on\n"
          ]
        }
      ]
    },
    {
      "cell_type": "code",
      "execution_count": 88,
      "metadata": {
        "id": "R6Mrxpb-y_Ce",
        "colab": {
          "base_uri": "https://localhost:8080/",
          "height": 973
        },
        "outputId": "9430e2a0-81b4-48d0-d056-c89998188094"
      },
      "outputs": [
        {
          "output_type": "stream",
          "name": "stdout",
          "text": [
            "Looking in indexes: https://pypi.org/simple, https://us-python.pkg.dev/colab-wheels/public/simple/\n",
            "Collecting Flask==1.1.1\n",
            "  Downloading Flask-1.1.1-py2.py3-none-any.whl (94 kB)\n",
            "\u001b[K     |████████████████████████████████| 94 kB 2.3 MB/s \n",
            "\u001b[?25hCollecting gunicorn==19.9.0\n",
            "  Downloading gunicorn-19.9.0-py2.py3-none-any.whl (112 kB)\n",
            "\u001b[K     |████████████████████████████████| 112 kB 18.4 MB/s \n",
            "\u001b[?25hRequirement already satisfied: itsdangerous==1.1.0 in /usr/local/lib/python3.7/dist-packages (from -r requirements.txt (line 3)) (1.1.0)\n",
            "Collecting Jinja2==2.10.1\n",
            "  Downloading Jinja2-2.10.1-py2.py3-none-any.whl (124 kB)\n",
            "\u001b[K     |████████████████████████████████| 124 kB 56.5 MB/s \n",
            "\u001b[?25hCollecting MarkupSafe==1.1.1\n",
            "  Downloading MarkupSafe-1.1.1-cp37-cp37m-manylinux2010_x86_64.whl (33 kB)\n",
            "Collecting Werkzeug==0.15.5\n",
            "  Downloading Werkzeug-0.15.5-py2.py3-none-any.whl (328 kB)\n",
            "\u001b[K     |████████████████████████████████| 328 kB 39.8 MB/s \n",
            "\u001b[?25hRequirement already satisfied: numpy>=1.9.2 in /usr/local/lib/python3.7/dist-packages (from -r requirements.txt (line 7)) (1.21.6)\n",
            "Requirement already satisfied: scipy>=0.15.1 in /usr/local/lib/python3.7/dist-packages (from -r requirements.txt (line 8)) (1.7.3)\n",
            "Requirement already satisfied: scikit-learn>=0.18 in /usr/local/lib/python3.7/dist-packages (from -r requirements.txt (line 9)) (1.0.2)\n",
            "Requirement already satisfied: matplotlib>=1.4.3 in /usr/local/lib/python3.7/dist-packages (from -r requirements.txt (line 10)) (3.2.2)\n",
            "Requirement already satisfied: pandas>=0.19 in /usr/local/lib/python3.7/dist-packages (from -r requirements.txt (line 11)) (1.3.5)\n",
            "Requirement already satisfied: click>=5.1 in /usr/local/lib/python3.7/dist-packages (from Flask==1.1.1->-r requirements.txt (line 1)) (7.1.2)\n",
            "Requirement already satisfied: joblib>=0.11 in /usr/local/lib/python3.7/dist-packages (from scikit-learn>=0.18->-r requirements.txt (line 9)) (1.1.0)\n",
            "Requirement already satisfied: threadpoolctl>=2.0.0 in /usr/local/lib/python3.7/dist-packages (from scikit-learn>=0.18->-r requirements.txt (line 9)) (3.1.0)\n",
            "Requirement already satisfied: kiwisolver>=1.0.1 in /usr/local/lib/python3.7/dist-packages (from matplotlib>=1.4.3->-r requirements.txt (line 10)) (1.4.4)\n",
            "Requirement already satisfied: pyparsing!=2.0.4,!=2.1.2,!=2.1.6,>=2.0.1 in /usr/local/lib/python3.7/dist-packages (from matplotlib>=1.4.3->-r requirements.txt (line 10)) (3.0.9)\n",
            "Requirement already satisfied: python-dateutil>=2.1 in /usr/local/lib/python3.7/dist-packages (from matplotlib>=1.4.3->-r requirements.txt (line 10)) (2.8.2)\n",
            "Requirement already satisfied: cycler>=0.10 in /usr/local/lib/python3.7/dist-packages (from matplotlib>=1.4.3->-r requirements.txt (line 10)) (0.11.0)\n",
            "Requirement already satisfied: pytz>=2017.3 in /usr/local/lib/python3.7/dist-packages (from pandas>=0.19->-r requirements.txt (line 11)) (2022.2.1)\n",
            "Requirement already satisfied: typing-extensions in /usr/local/lib/python3.7/dist-packages (from kiwisolver>=1.0.1->matplotlib>=1.4.3->-r requirements.txt (line 10)) (4.1.1)\n",
            "Requirement already satisfied: six>=1.5 in /usr/local/lib/python3.7/dist-packages (from python-dateutil>=2.1->matplotlib>=1.4.3->-r requirements.txt (line 10)) (1.15.0)\n",
            "Installing collected packages: MarkupSafe, Werkzeug, Jinja2, gunicorn, Flask\n",
            "  Attempting uninstall: MarkupSafe\n",
            "    Found existing installation: MarkupSafe 2.0.1\n",
            "    Uninstalling MarkupSafe-2.0.1:\n",
            "      Successfully uninstalled MarkupSafe-2.0.1\n",
            "  Attempting uninstall: Werkzeug\n",
            "    Found existing installation: Werkzeug 1.0.1\n",
            "    Uninstalling Werkzeug-1.0.1:\n",
            "      Successfully uninstalled Werkzeug-1.0.1\n",
            "  Attempting uninstall: Jinja2\n",
            "    Found existing installation: Jinja2 2.11.3\n",
            "    Uninstalling Jinja2-2.11.3:\n",
            "      Successfully uninstalled Jinja2-2.11.3\n",
            "  Attempting uninstall: Flask\n",
            "    Found existing installation: Flask 1.1.4\n",
            "    Uninstalling Flask-1.1.4:\n",
            "      Successfully uninstalled Flask-1.1.4\n",
            "Successfully installed Flask-1.1.1 Jinja2-2.10.1 MarkupSafe-1.1.1 Werkzeug-0.15.5 gunicorn-19.9.0\n"
          ]
        },
        {
          "output_type": "display_data",
          "data": {
            "application/vnd.colab-display-data+json": {
              "pip_warning": {
                "packages": [
                  "flask",
                  "jinja2",
                  "markupsafe",
                  "werkzeug"
                ]
              }
            }
          },
          "metadata": {}
        }
      ],
      "source": [
        "pip install -r requirements.txt\n"
      ]
    }
  ],
  "metadata": {
    "colab": {
      "collapsed_sections": [],
      "name": "Cloun and API.ipynb",
      "provenance": []
    },
    "kernelspec": {
      "display_name": "Python 3",
      "name": "python3"
    },
    "language_info": {
      "name": "python"
    }
  },
  "nbformat": 4,
  "nbformat_minor": 0
}